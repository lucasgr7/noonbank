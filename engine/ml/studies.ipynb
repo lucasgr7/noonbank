{
 "cells": [
  {
   "cell_type": "code",
   "execution_count": 68,
   "metadata": {},
   "outputs": [],
   "source": [
    "# import python libraries for machine learning\n",
    "import numpy as np\n",
    "import pandas as pd\n",
    "from sklearn import datasets\n",
    "from sklearn.model_selection import train_test_split\n",
    "from sklearn.linear_model import LinearRegression\n",
    "from sklearn import metrics\n",
    "\n",
    "# load the dataset account_transactions.csv and present\n"
   ]
  },
  {
   "cell_type": "code",
   "execution_count": 72,
   "metadata": {},
   "outputs": [
    {
     "name": "stdout",
     "output_type": "stream",
     "text": [
      "           time   amount  category_id  \\\n",
      "741  2024-04-12   189.89         11.0   \n",
      "742  2024-04-12  3000.00         19.0   \n",
      "743  2024-04-15   118.13          1.0   \n",
      "744  2024-04-15   180.00          8.0   \n",
      "745  2024-04-15   162.00         15.0   \n",
      "\n",
      "                                           description  \n",
      "741                Transferência enviada Posto Candial  \n",
      "742             Transferência enviada Juliano Pedreiro  \n",
      "743                   Transferência enviada Vivo - Gvt  \n",
      "744     Transferência enviada Frank Contabilidade LTDA  \n",
      "745  Transferência enviada Gabriela Freitas de Oliv...  \n"
     ]
    }
   ],
   "source": [
    "# load data for account_transaciton and normalize\n",
    "data = pd.read_csv('account_transactions.csv')# remove garbage data, columns showClock, displaydate, footer, id, striketrough, kind, detail and category_id\n",
    "data = data.drop(['showclock', 'displaydate', 'footer', 'id', 'strikethrough', 'kind'], axis=1)\n",
    "data['description'] = data['title'] + ' ' + data['detail']\n",
    "data.drop(['title', 'detail'], axis=1, inplace=True)\n",
    "data.rename(columns={'postdate': 'time'}, inplace=True)\n",
    "print(data.tail(5))"
   ]
  },
  {
   "cell_type": "code",
   "execution_count": 71,
   "metadata": {},
   "outputs": [
    {
     "name": "stdout",
     "output_type": "stream",
     "text": [
      "                description  amount     category        time  category_id\n",
      "2044  Casa de Suco Paulo Vi   99.44  transaction  2024-04-14           10\n",
      "2045      Google Wm Max Llc   74.90  transaction  2024-04-14            9\n",
      "2046                  Shell   47.54  transaction  2024-04-14           11\n",
      "2047   Chatgpt Subscription  111.80  transaction  2024-04-15            8\n",
      "2048  Pag*Tabacarialeporace  151.38  transaction  2024-04-06            4\n"
     ]
    }
   ],
   "source": [
    "# load the transactions.csv and normalize\n",
    "data2 = pd.read_csv('transactions.csv')\n",
    "data2 = data2.drop(['details_status',\n",
    "                    'amount_without_iof',\n",
    "                    'details_fx_exchange_rate',\n",
    "                    'details_fx_precise_amount_usd',\n",
    "                    'id', 'account', 'details_subcategory', \n",
    "                    'details_fx_currency_origin', 'details_charges_amount', 'details_fx_amount_usd',\n",
    "                    'title'], axis=1)\n",
    "data2['time'] = data2['time'].str.split(' ').str[0]\n",
    "data2['amount'] = data2['amount'] / 100\n",
    "print(data2.tail())"
   ]
  },
  {
   "cell_type": "code",
   "execution_count": 73,
   "metadata": {},
   "outputs": [
    {
     "name": "stdout",
     "output_type": "stream",
     "text": [
      "            time  amount  category_id  \\\n",
      "2790  2024-04-14   99.44         10.0   \n",
      "2791  2024-04-15  162.00         15.0   \n",
      "2792  2024-04-15  118.13          1.0   \n",
      "2793  2024-04-15  111.80          8.0   \n",
      "2794  2024-04-15  180.00          8.0   \n",
      "\n",
      "                                            description     category  \n",
      "2790                              Casa de Suco Paulo Vi  transaction  \n",
      "2791  Transferência enviada Gabriela Freitas de Oliv...          NaN  \n",
      "2792                   Transferência enviada Vivo - Gvt          NaN  \n",
      "2793                               Chatgpt Subscription  transaction  \n",
      "2794     Transferência enviada Frank Contabilidade LTDA          NaN  \n"
     ]
    }
   ],
   "source": [
    "# merge the two databases\n",
    "data = pd.concat([data, data2], axis=0)\n",
    "data = data.sort_values(by='time')\n",
    "data = data.reset_index(drop=True)\n",
    "print(data.tail(5))"
   ]
  },
  {
   "cell_type": "code",
   "execution_count": 82,
   "metadata": {},
   "outputs": [],
   "source": [
    "# save locally the merged data\n",
    "data.to_csv('merged_data.csv', index=False)\n"
   ]
  }
 ],
 "metadata": {
  "kernelspec": {
   "display_name": "Python 3",
   "language": "python",
   "name": "python3"
  },
  "language_info": {
   "codemirror_mode": {
    "name": "ipython",
    "version": 3
   },
   "file_extension": ".py",
   "mimetype": "text/x-python",
   "name": "python",
   "nbconvert_exporter": "python",
   "pygments_lexer": "ipython3",
   "version": "3.11.9"
  }
 },
 "nbformat": 4,
 "nbformat_minor": 2
}
